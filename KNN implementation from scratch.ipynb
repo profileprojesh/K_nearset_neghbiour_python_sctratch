{
 "cells": [
  {
   "cell_type": "markdown",
   "metadata": {},
   "source": [
    "## In this project I am going to implement k neareast negihbior algorithm from sctratch using python numpy modules\n",
    "The main objective of is project is to enhance my core concept of ml algoritm by understanding it from depth. \n",
    "\n",
    "## Python 3 and its related modules is used in this project"
   ]
  },
  {
   "cell_type": "code",
   "execution_count": 1,
   "metadata": {},
   "outputs": [],
   "source": [
    "import numpy as np\n",
    "from collections import Counter"
   ]
  },
  {
   "cell_type": "code",
   "execution_count": 2,
   "metadata": {},
   "outputs": [],
   "source": [
    "# Function to calcuate ecludian distance \n",
    "def eucledian_distance(x1,x2):\n",
    "    return np.sqrt(np.sum(x1-x2)**2)"
   ]
  },
  {
   "cell_type": "code",
   "execution_count": 3,
   "metadata": {},
   "outputs": [],
   "source": [
    "class KNN:\n",
    "    \n",
    "    def __init__(self,k=3):\n",
    "        self.k = k\n",
    "        \n",
    "    def fit(self,X,y):\n",
    "        self.X_train = X\n",
    "        self.y_train = y\n",
    "    \n",
    "    def predict(self,X):\n",
    "        predicted_lables = [self._predict(x) for x in X]\n",
    "        return np.array(predicted_lables)\n",
    "        \n",
    "    #This is the helper function to make prediction\n",
    "    def _predict(self,x):\n",
    "        distances = [eucledian_distance(x,x_train) for x_train in X_train]\n",
    "        \n",
    "        # find the k_nearest index and labels using this distance by sorting it in ascending order so that index of nearest distance is obtained\n",
    "        indices = np.argsort(distances)[:self.k] #[self.k] reduces the result only upto k numbers in ascending order\n",
    "        \n",
    "        lables = [self.y_train[i] for i in indices] #This givies the corresponding lables values to which the indices belongs\n",
    "        \n",
    "        # Now majority vote is taken from the lables and lable with maximum occurence is selected\n",
    "        f_lables = Counter(lables).most_common(1)\n",
    "        \n",
    "        return f_lables[0][0]\n",
    "        \n",
    "        "
   ]
  },
  {
   "cell_type": "markdown",
   "metadata": {},
   "source": [
    "### Now I am going to import iris dataset from sklearn library "
   ]
  },
  {
   "cell_type": "code",
   "execution_count": 4,
   "metadata": {},
   "outputs": [],
   "source": [
    "from sklearn import datasets\n"
   ]
  },
  {
   "cell_type": "code",
   "execution_count": 5,
   "metadata": {},
   "outputs": [],
   "source": [
    "iris = datasets.load_iris()\n",
    "X,y = iris.data,iris.target"
   ]
  },
  {
   "cell_type": "code",
   "execution_count": 6,
   "metadata": {},
   "outputs": [],
   "source": [
    "Y = ['Setosa','Versicolour','Virginica']\n"
   ]
  },
  {
   "cell_type": "markdown",
   "metadata": {},
   "source": [
    "### Iris data set has four columns  and 150 rows"
   ]
  },
  {
   "cell_type": "code",
   "execution_count": 7,
   "metadata": {},
   "outputs": [
    {
     "data": {
      "text/plain": [
       "(150, 4)"
      ]
     },
     "execution_count": 7,
     "metadata": {},
     "output_type": "execute_result"
    }
   ],
   "source": [
    "X.shape"
   ]
  },
  {
   "cell_type": "code",
   "execution_count": 8,
   "metadata": {},
   "outputs": [
    {
     "data": {
      "text/plain": [
       "(150,)"
      ]
     },
     "execution_count": 8,
     "metadata": {},
     "output_type": "execute_result"
    }
   ],
   "source": [
    "y.shape"
   ]
  },
  {
   "cell_type": "markdown",
   "metadata": {},
   "source": [
    "#### Now dividing dataset into train and test set using sklearn module\n",
    "Here test size is 20% of the total data"
   ]
  },
  {
   "cell_type": "code",
   "execution_count": 9,
   "metadata": {},
   "outputs": [],
   "source": [
    "from sklearn.model_selection import train_test_split\n",
    "X_train,X_test,y_train,y_test = train_test_split(X,y,test_size=0.2,random_state=2)"
   ]
  },
  {
   "cell_type": "markdown",
   "metadata": {},
   "source": [
    "### Making a instance of class KNN for fitting a model"
   ]
  },
  {
   "cell_type": "code",
   "execution_count": 10,
   "metadata": {},
   "outputs": [
    {
     "data": {
      "text/plain": [
       "['Setosa',\n",
       " 'Setosa',\n",
       " 'Versicolour',\n",
       " 'Setosa',\n",
       " 'Setosa',\n",
       " 'Virginica',\n",
       " 'Setosa',\n",
       " 'Virginica',\n",
       " 'Virginica',\n",
       " 'Setosa',\n",
       " 'Setosa',\n",
       " 'Setosa',\n",
       " 'Setosa',\n",
       " 'Setosa',\n",
       " 'Virginica',\n",
       " 'Versicolour',\n",
       " 'Setosa',\n",
       " 'Versicolour',\n",
       " 'Virginica',\n",
       " 'Versicolour',\n",
       " 'Virginica',\n",
       " 'Versicolour',\n",
       " 'Virginica',\n",
       " 'Versicolour',\n",
       " 'Versicolour',\n",
       " 'Setosa',\n",
       " 'Setosa',\n",
       " 'Virginica',\n",
       " 'Setosa',\n",
       " 'Virginica']"
      ]
     },
     "execution_count": 10,
     "metadata": {},
     "output_type": "execute_result"
    }
   ],
   "source": [
    "clf = KNN(k=13)\n",
    "clf.fit(X_train,y_train)\n",
    "pred = clf.predict(X_test)\n",
    "res = [Y[i] for i in pred]\n",
    "res"
   ]
  },
  {
   "cell_type": "markdown",
   "metadata": {},
   "source": [
    "### Now checking accuracy of model"
   ]
  },
  {
   "cell_type": "code",
   "execution_count": 11,
   "metadata": {},
   "outputs": [
    {
     "data": {
      "text/plain": [
       "90.0"
      ]
     },
     "execution_count": 11,
     "metadata": {},
     "output_type": "execute_result"
    }
   ],
   "source": [
    "acc = 100.0*np.sum(pred==y_test)/len(y_test)\n",
    "acc"
   ]
  },
  {
   "cell_type": "markdown",
   "metadata": {},
   "source": [
    "### In this way python implementation of K-nearest-neighbour is completed"
   ]
  }
 ],
 "metadata": {
  "kernelspec": {
   "display_name": "Python 3",
   "language": "python",
   "name": "python3"
  },
  "language_info": {
   "codemirror_mode": {
    "name": "ipython",
    "version": 3
   },
   "file_extension": ".py",
   "mimetype": "text/x-python",
   "name": "python",
   "nbconvert_exporter": "python",
   "pygments_lexer": "ipython3",
   "version": "3.8.6rc1"
  }
 },
 "nbformat": 4,
 "nbformat_minor": 4
}
